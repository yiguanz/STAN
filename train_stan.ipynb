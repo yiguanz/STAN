{
 "cells": [
  {
   "cell_type": "code",
   "execution_count": null,
   "metadata": {},
   "outputs": [],
   "source": [
    "import csv\n",
    "import os\n",
    "\n",
    "import numpy as np\n",
    "import pandas as pd\n",
    "from epiweeks import Week\n",
    "\n",
    "from data_downloader import GenerateTrainingData\n",
    "from utils import date_today, gravity_law_commute_dist\n",
    "\n",
    "os.environ['NUMEXPR_MAX_THREADS'] = '16'\n",
    "os.environ['NUMEXPR_NUM_THREADS'] = '8'\n",
    "\n",
    "import pickle\n",
    "import matplotlib.pyplot as plt\n",
    "import dgl\n",
    "import torch\n",
    "from torch import nn\n",
    "import torch.nn.functional as F\n",
    "from model import STAN\n",
    "\n",
    "import sklearn\n",
    "from sklearn.metrics import mean_absolute_error\n",
    "from sklearn.metrics import mean_squared_error"
   ]
  },
  {
   "cell_type": "code",
   "execution_count": null,
   "metadata": {
    "scrolled": true
   },
   "outputs": [],
   "source": [
    "GenerateTrainingData().download_jhu_data('2020-05-01', '2020-12-01')"
   ]
  },
  {
   "cell_type": "code",
   "execution_count": null,
   "metadata": {},
   "outputs": [],
   "source": [
    "#Merge population data with downloaded data\n",
    "raw_data = pickle.load(open('./data/state_covid_data.pickle','rb'))\n",
    "pop_data = pd.read_csv('./uszips.csv')\n",
    "pop_data = pop_data.groupby('state_name').agg({'population':'sum', 'density':'mean', 'lat':'mean', 'lng':'mean'}).reset_index()\n",
    "raw_data = pd.merge(raw_data, pop_data, how='inner', left_on='state', right_on='state_name')"
   ]
  },
  {
   "cell_type": "code",
   "execution_count": null,
   "metadata": {},
   "outputs": [],
   "source": [
    "raw_data.head(3)"
   ]
  },
  {
   "cell_type": "code",
   "execution_count": null,
   "metadata": {
    "scrolled": true
   },
   "outputs": [],
   "source": [
    "# Generate location similarity\n",
    "loc_list = list(raw_data['state'].unique())\n",
    "loc_dist_map = {}\n",
    "\n",
    "for each_loc in loc_list:\n",
    "    loc_dist_map[each_loc] = {}\n",
    "    for each_loc2 in loc_list:\n",
    "        lat1 = raw_data[raw_data['state']==each_loc]['latitude'].unique()[0]\n",
    "        lng1 = raw_data[raw_data['state']==each_loc]['longitude'].unique()[0]\n",
    "        pop1 = raw_data[raw_data['state']==each_loc]['population'].unique()[0]\n",
    "        \n",
    "        lat2 = raw_data[raw_data['state']==each_loc2]['latitude'].unique()[0]\n",
    "        lng2 = raw_data[raw_data['state']==each_loc2]['longitude'].unique()[0]\n",
    "        pop2 = raw_data[raw_data['state']==each_loc2]['population'].unique()[0]\n",
    "        \n",
    "        loc_dist_map[each_loc][each_loc2] = gravity_law_commute_dist(lat1, lng1, pop1, lat2, lng2, pop2, r=0.5)"
   ]
  },
  {
   "cell_type": "code",
   "execution_count": 6,
   "metadata": {},
   "outputs": [],
   "source": [
    "#Generate Graph\n",
    "dist_threshold = 18\n",
    "\n",
    "for each_loc in loc_dist_map:\n",
    "    loc_dist_map[each_loc] = {k: v for k, v in sorted(loc_dist_map[each_loc].items(), key=lambda item: item[1], reverse=True)}\n",
    "    \n",
    "adj_map = {}\n",
    "for each_loc in loc_dist_map:\n",
    "    adj_map[each_loc] = []\n",
    "    for i, each_loc2 in enumerate(loc_dist_map[each_loc]):\n",
    "        if loc_dist_map[each_loc][each_loc2] > dist_threshold:\n",
    "            if i <= 3:\n",
    "                adj_map[each_loc].append(each_loc2)\n",
    "            else:\n",
    "                break\n",
    "        else:\n",
    "            if i <= 1:\n",
    "                adj_map[each_loc].append(each_loc2)\n",
    "            else:\n",
    "                break\n",
    "\n",
    "rows = []\n",
    "cols = []\n",
    "for each_loc in adj_map:\n",
    "    for each_loc2 in adj_map[each_loc]:\n",
    "        rows.append(loc_list.index(each_loc))\n",
    "        cols.append(loc_list.index(each_loc2))"
   ]
  },
  {
   "cell_type": "code",
   "execution_count": 7,
   "metadata": {},
   "outputs": [],
   "source": [
    "g = dgl.graph((rows, cols))"
   ]
  },
  {
   "cell_type": "code",
   "execution_count": 8,
   "metadata": {},
   "outputs": [],
   "source": [
    "#Preprocess features\n",
    "\n",
    "active_cases = []\n",
    "confirmed_cases = []\n",
    "new_cases = []\n",
    "death_cases = []\n",
    "static_feat = []\n",
    "\n",
    "for i, each_loc in enumerate(loc_list):\n",
    "    active_cases.append(raw_data[raw_data['state'] == each_loc]['active'])\n",
    "    confirmed_cases.append(raw_data[raw_data['state'] == each_loc]['confirmed'])\n",
    "    new_cases.append(raw_data[raw_data['state'] == each_loc]['new_cases'])\n",
    "    death_cases.append(raw_data[raw_data['state'] == each_loc]['deaths'])\n",
    "    static_feat.append(np.array(raw_data[raw_data['state'] == each_loc][['population','density','lng','lat']]))\n",
    "    \n",
    "active_cases = np.array(active_cases)\n",
    "confirmed_cases = np.array(confirmed_cases)\n",
    "death_cases = np.array(death_cases)\n",
    "new_cases = np.array(new_cases)\n",
    "static_feat = np.array(static_feat)[:, 0, :]\n",
    "recovered_cases = confirmed_cases - active_cases - death_cases\n",
    "susceptible_cases = np.expand_dims(static_feat[:, 0], -1) - active_cases - recovered_cases\n",
    "\n",
    "# Batch_feat: new_cases(dI), dR, dS\n",
    "#dI = np.array(new_cases)\n",
    "dI = np.concatenate((np.zeros((active_cases.shape[0],1), dtype=np.float32), np.diff(active_cases)), axis=-1)\n",
    "dR = np.concatenate((np.zeros((recovered_cases.shape[0],1), dtype=np.float32), np.diff(recovered_cases)), axis=-1)\n",
    "dS = np.concatenate((np.zeros((susceptible_cases.shape[0],1), dtype=np.float32), np.diff(susceptible_cases)), axis=-1)"
   ]
  },
  {
   "cell_type": "code",
   "execution_count": 9,
   "metadata": {},
   "outputs": [],
   "source": [
    "#Build normalizer\n",
    "normalizer = {'S':{}, 'I':{}, 'R':{}, 'dS':{}, 'dI':{}, 'dR':{}}\n",
    "\n",
    "for i, each_loc in enumerate(loc_list):\n",
    "    normalizer['S'][each_loc] = (np.mean(susceptible_cases[i]), np.std(susceptible_cases[i]))\n",
    "    normalizer['I'][each_loc] = (np.mean(active_cases[i]), np.std(active_cases[i]))\n",
    "    normalizer['R'][each_loc] = (np.mean(recovered_cases[i]), np.std(recovered_cases[i]))\n",
    "    normalizer['dI'][each_loc] = (np.mean(dI[i]), np.std(dI[i]))\n",
    "    normalizer['dR'][each_loc] = (np.mean(dR[i]), np.std(dR[i]))\n",
    "    normalizer['dS'][each_loc] = (np.mean(dS[i]), np.std(dS[i]))"
   ]
  },
  {
   "cell_type": "code",
   "execution_count": 10,
   "metadata": {},
   "outputs": [],
   "source": [
    "def prepare_data(data, sum_I, sum_R, history_window=5, pred_window=15, slide_step=5):\n",
    "    # Data shape n_loc, timestep, n_feat\n",
    "    # Reshape to n_loc, t, history_window*n_feat\n",
    "    n_loc = data.shape[0]\n",
    "    timestep = data.shape[1]\n",
    "    n_feat = data.shape[2]\n",
    "    \n",
    "    x = []\n",
    "    y_I = []\n",
    "    y_R = []\n",
    "    last_I = []\n",
    "    last_R = []\n",
    "    concat_I = []\n",
    "    concat_R = []\n",
    "    for i in range(0, timestep, slide_step):\n",
    "        if i+history_window+pred_window-1 >= timestep or i+history_window >= timestep:\n",
    "            break\n",
    "        x.append(data[:, i:i+history_window, :].reshape((n_loc, history_window*n_feat)))\n",
    "        \n",
    "        concat_I.append(data[:, i+history_window-1, 0])\n",
    "        concat_R.append(data[:, i+history_window-1, 1])\n",
    "        last_I.append(sum_I[:, i+history_window-1])\n",
    "        last_R.append(sum_R[:, i+history_window-1])\n",
    "\n",
    "        y_I.append(data[:, i+history_window:i+history_window+pred_window, 0])\n",
    "        y_R.append(data[:, i+history_window:i+history_window+pred_window, 1])\n",
    "\n",
    "    x = np.array(x, dtype=np.float32).transpose((1, 0, 2))\n",
    "    last_I = np.array(last_I, dtype=np.float32).transpose((1, 0))\n",
    "    last_R = np.array(last_R, dtype=np.float32).transpose((1, 0))\n",
    "    concat_I = np.array(concat_I, dtype=np.float32).transpose((1, 0))\n",
    "    concat_R = np.array(concat_R, dtype=np.float32).transpose((1, 0))\n",
    "    y_I = np.array(y_I, dtype=np.float32).transpose((1, 0, 2))\n",
    "    y_R = np.array(y_R, dtype=np.float32).transpose((1, 0, 2))\n",
    "    return x, last_I, last_R, concat_I, concat_R, y_I, y_R"
   ]
  },
  {
   "cell_type": "code",
   "execution_count": 11,
   "metadata": {},
   "outputs": [],
   "source": [
    "valid_window = 25\n",
    "test_window = 25\n",
    "\n",
    "history_window=6\n",
    "pred_window=15\n",
    "slide_step=5\n",
    "\n",
    "dynamic_feat = np.concatenate((np.expand_dims(dI, axis=-1), np.expand_dims(dR, axis=-1), np.expand_dims(dS, axis=-1)), axis=-1)\n",
    "    \n",
    "#Normalize\n",
    "for i, each_loc in enumerate(loc_list):\n",
    "    dynamic_feat[i, :, 0] = (dynamic_feat[i, :, 0] - normalizer['dI'][each_loc][0]) / normalizer['dI'][each_loc][1]\n",
    "    dynamic_feat[i, :, 1] = (dynamic_feat[i, :, 1] - normalizer['dR'][each_loc][0]) / normalizer['dR'][each_loc][1]\n",
    "    dynamic_feat[i, :, 2] = (dynamic_feat[i, :, 2] - normalizer['dS'][each_loc][0]) / normalizer['dS'][each_loc][1]\n",
    "\n",
    "dI_mean = []\n",
    "dI_std = []\n",
    "dR_mean = []\n",
    "dR_std = []\n",
    "\n",
    "for i, each_loc in enumerate(loc_list):\n",
    "    dI_mean.append(normalizer['dI'][each_loc][0])\n",
    "    dR_mean.append(normalizer['dR'][each_loc][0])\n",
    "    dI_std.append(normalizer['dI'][each_loc][1])\n",
    "    dR_std.append(normalizer['dR'][each_loc][1])\n",
    "\n",
    "dI_mean = np.array(dI_mean)\n",
    "dI_std = np.array(dI_std)\n",
    "dR_mean = np.array(dR_mean)\n",
    "dR_std = np.array(dR_std)\n",
    "\n",
    "#Split train-test\n",
    "train_feat = dynamic_feat[:, :-valid_window-test_window, :]\n",
    "val_feat = dynamic_feat[:, -valid_window-test_window:-test_window, :]\n",
    "test_feat = dynamic_feat[:, -test_window:, :]\n",
    "\n",
    "train_x, train_I, train_R, train_cI, train_cR, train_yI, train_yR = prepare_data(train_feat, active_cases[:, :-valid_window-test_window], recovered_cases[:, :-valid_window-test_window], history_window, pred_window, slide_step)\n",
    "val_x, val_I, val_R, val_cI, val_cR, val_yI, val_yR = prepare_data(val_feat, active_cases[:, -valid_window-test_window:-test_window], recovered_cases[:, -valid_window-test_window:-test_window], history_window, pred_window, slide_step)\n",
    "test_x, test_I, test_R, test_cI, test_cR, test_yI, test_yR = prepare_data(test_feat, active_cases[:, -test_window:], recovered_cases[:, -test_window:], history_window, pred_window, slide_step)"
   ]
  },
  {
   "cell_type": "code",
   "execution_count": 12,
   "metadata": {
    "scrolled": true
   },
   "outputs": [],
   "source": [
    "#Build STAN model\n",
    "\n",
    "in_dim = 3*history_window\n",
    "hidden_dim1 = 32\n",
    "hidden_dim2 = 32\n",
    "gru_dim = 32\n",
    "num_heads = 1\n",
    "device = torch.device(\"cuda:0\" if torch.cuda.is_available() else \"cpu\")\n",
    "\n",
    "g = g.to(device)\n",
    "model = STAN(g, in_dim, hidden_dim1, hidden_dim2, gru_dim, num_heads, pred_window, device).to(device)\n",
    "optimizer = torch.optim.Adam(model.parameters(), lr=1e-2)\n",
    "criterion = nn.MSELoss()"
   ]
  },
  {
   "cell_type": "code",
   "execution_count": 13,
   "metadata": {},
   "outputs": [
    {
     "data": {
      "text/plain": [
       "STAN(\n",
       "  (layer1): MultiHeadGATLayer(\n",
       "    (heads): ModuleList(\n",
       "      (0): GATLayer(\n",
       "        (fc): Linear(in_features=18, out_features=32, bias=True)\n",
       "        (attn_fc): Linear(in_features=64, out_features=1, bias=True)\n",
       "      )\n",
       "    )\n",
       "  )\n",
       "  (layer2): MultiHeadGATLayer(\n",
       "    (heads): ModuleList(\n",
       "      (0): GATLayer(\n",
       "        (fc): Linear(in_features=32, out_features=32, bias=True)\n",
       "        (attn_fc): Linear(in_features=64, out_features=1, bias=True)\n",
       "      )\n",
       "    )\n",
       "  )\n",
       "  (gru): GRUCell(32, 32)\n",
       "  (nn_res_I): Linear(in_features=34, out_features=15, bias=True)\n",
       "  (nn_res_R): Linear(in_features=34, out_features=15, bias=True)\n",
       "  (nn_res_sir): Linear(in_features=34, out_features=2, bias=True)\n",
       ")"
      ]
     },
     "execution_count": 13,
     "metadata": {},
     "output_type": "execute_result"
    }
   ],
   "source": [
    "model"
   ]
  },
  {
   "cell_type": "code",
   "execution_count": 14,
   "metadata": {},
   "outputs": [],
   "source": [
    "train_x = torch.tensor(train_x).to(device)\n",
    "train_I = torch.tensor(train_I).to(device)\n",
    "train_R = torch.tensor(train_R).to(device)\n",
    "train_cI = torch.tensor(train_cI).to(device)\n",
    "train_cR = torch.tensor(train_cR).to(device)\n",
    "train_yI = torch.tensor(train_yI).to(device)\n",
    "train_yR = torch.tensor(train_yR).to(device)\n",
    "\n",
    "val_x = torch.tensor(val_x).to(device)\n",
    "val_I = torch.tensor(val_I).to(device)\n",
    "val_R = torch.tensor(val_R).to(device)\n",
    "val_cI = torch.tensor(val_cI).to(device)\n",
    "val_cR = torch.tensor(val_cR).to(device)\n",
    "val_yI = torch.tensor(val_yI).to(device)\n",
    "val_yR = torch.tensor(val_yR).to(device)\n",
    "\n",
    "test_x = torch.tensor(test_x).to(device)\n",
    "test_I = torch.tensor(test_I).to(device)\n",
    "test_R = torch.tensor(test_R).to(device)\n",
    "test_cI = torch.tensor(test_cI).to(device)\n",
    "test_cR = torch.tensor(test_cR).to(device)\n",
    "test_yI = torch.tensor(test_yI).to(device)\n",
    "test_yR = torch.tensor(test_yR).to(device)\n",
    "\n",
    "dI_mean = torch.tensor(dI_mean, dtype=torch.float32).to(device).reshape((dI_mean.shape[0], 1, 1))\n",
    "dI_std = torch.tensor(dI_std, dtype=torch.float32).to(device).reshape((dI_mean.shape[0], 1, 1))\n",
    "dR_mean = torch.tensor(dR_mean, dtype=torch.float32).to(device).reshape((dI_mean.shape[0], 1, 1))\n",
    "dR_std = torch.tensor(dR_std, dtype=torch.float32).to(device).reshape((dI_mean.shape[0], 1, 1))\n",
    "\n",
    "N = torch.tensor(static_feat[:, 0], dtype=torch.float32).to(device).unsqueeze(-1)"
   ]
  },
  {
   "cell_type": "code",
   "execution_count": 15,
   "metadata": {
    "scrolled": true
   },
   "outputs": [
    {
     "name": "stderr",
     "output_type": "stream",
     "text": [
      "/home/ubuntu/.local/lib/python3.7/site-packages/torch/nn/modules/loss.py:432: UserWarning: Using a target size (torch.Size([1, 15])) that is different to the input size (torch.Size([15])). This will likely lead to incorrect results due to broadcasting. Please ensure they have the same size.\n",
      "  return F.mse_loss(input, target, reduction=self.reduction)\n"
     ]
    },
    {
     "name": "stdout",
     "output_type": "stream",
     "text": [
      "-----Save best model-----\n",
      "Epoch 0, Loss 4.56, Val loss 16.08\n",
      "Epoch 1, Loss 40.49, Val loss 20.66\n",
      "-----Save best model-----\n",
      "Epoch 2, Loss 19.65, Val loss 2.82\n",
      "-----Save best model-----\n",
      "Epoch 3, Loss 2.52, Val loss 0.41\n",
      "-----Save best model-----\n",
      "Epoch 4, Loss 0.82, Val loss 0.19\n",
      "-----Save best model-----\n",
      "Epoch 5, Loss 0.51, Val loss 0.18\n",
      "Epoch 6, Loss 0.40, Val loss 0.21\n",
      "Epoch 7, Loss 0.36, Val loss 0.24\n",
      "Epoch 8, Loss 0.35, Val loss 0.26\n",
      "Epoch 9, Loss 0.36, Val loss 0.27\n",
      "Epoch 10, Loss 0.35, Val loss 0.26\n",
      "Epoch 11, Loss 0.33, Val loss 0.26\n",
      "Epoch 12, Loss 0.32, Val loss 0.24\n",
      "Epoch 13, Loss 0.30, Val loss 0.19\n",
      "Epoch 14, Loss 0.28, Val loss 0.21\n",
      "Epoch 15, Loss 0.27, Val loss 0.19\n",
      "Epoch 16, Loss 0.27, Val loss 0.22\n",
      "Epoch 17, Loss 0.24, Val loss 0.19\n",
      "-----Save best model-----\n",
      "Epoch 18, Loss 0.25, Val loss 0.18\n",
      "-----Save best model-----\n",
      "Epoch 19, Loss 0.22, Val loss 0.17\n",
      "Epoch 20, Loss 0.24, Val loss 0.17\n",
      "Epoch 21, Loss 0.23, Val loss 0.18\n",
      "Epoch 22, Loss 0.21, Val loss 0.19\n",
      "Epoch 23, Loss 0.21, Val loss 0.19\n",
      "Epoch 24, Loss 0.21, Val loss 0.18\n",
      "Epoch 25, Loss 0.20, Val loss 0.17\n",
      "Epoch 26, Loss 0.20, Val loss 0.17\n",
      "Epoch 27, Loss 0.22, Val loss 0.18\n",
      "Epoch 28, Loss 0.23, Val loss 0.18\n",
      "Epoch 29, Loss 0.19, Val loss 0.17\n",
      "Epoch 30, Loss 0.19, Val loss 0.19\n",
      "Epoch 31, Loss 0.19, Val loss 0.18\n",
      "Epoch 32, Loss 0.21, Val loss 0.18\n",
      "Epoch 33, Loss 0.19, Val loss 0.18\n",
      "-----Save best model-----\n",
      "Epoch 34, Loss 0.19, Val loss 0.16\n",
      "Epoch 35, Loss 0.18, Val loss 0.16\n",
      "Epoch 36, Loss 0.19, Val loss 0.16\n",
      "Epoch 37, Loss 0.19, Val loss 0.16\n",
      "-----Save best model-----\n",
      "Epoch 38, Loss 0.19, Val loss 0.15\n",
      "Epoch 39, Loss 0.18, Val loss 0.17\n",
      "Epoch 40, Loss 0.18, Val loss 0.18\n",
      "Epoch 41, Loss 0.18, Val loss 0.17\n",
      "Epoch 42, Loss 0.18, Val loss 0.19\n",
      "Epoch 43, Loss 0.18, Val loss 0.18\n",
      "Epoch 44, Loss 0.19, Val loss 0.17\n",
      "Epoch 45, Loss 0.18, Val loss 0.15\n",
      "Epoch 46, Loss 0.18, Val loss 0.16\n",
      "-----Save best model-----\n",
      "Epoch 47, Loss 0.19, Val loss 0.15\n",
      "Epoch 48, Loss 0.17, Val loss 0.16\n",
      "Epoch 49, Loss 0.18, Val loss 0.15\n"
     ]
    }
   ],
   "source": [
    "#Train STAN\n",
    "\n",
    "all_loss = []\n",
    "file_name = './save/stan'\n",
    "min_loss = 1e10\n",
    "\n",
    "loc_name = loc_list[0]\n",
    "cur_loc = 0\n",
    "\n",
    "#loc_name = 'Kentucky'\n",
    "#cur_loc = loc_list.index(loc_name)\n",
    "\n",
    "for epoch in range(50):\n",
    "    model.train()\n",
    "    optimizer.zero_grad()\n",
    "    \n",
    "    active_pred, recovered_pred, phy_active, phy_recover, _ = model(train_x, train_cI[cur_loc], train_cR[cur_loc], N[cur_loc], train_I[cur_loc], train_R[cur_loc])\n",
    "    phy_active = (phy_active - dI_mean[cur_loc]) / dI_std[cur_loc]\n",
    "    phy_recover = (phy_recover - dR_mean[cur_loc]) / dR_std[cur_loc]\n",
    "    loss = criterion(active_pred.squeeze(), train_yI[cur_loc])+criterion(recovered_pred.squeeze(), train_yR[cur_loc])+0.1*criterion(phy_active.squeeze(), train_yI[cur_loc])+0.1*criterion(phy_recover.squeeze(), train_yR[cur_loc])\n",
    "    \n",
    "    loss.backward()\n",
    "    optimizer.step()\n",
    "    all_loss.append(loss.item())\n",
    "    \n",
    "    model.eval()\n",
    "    _, _, _, _, prev_h = model(train_x, train_cI[cur_loc], train_cR[cur_loc], N[cur_loc], train_I[cur_loc], train_R[cur_loc])\n",
    "    val_active_pred, val_recovered_pred, val_phy_active, val_phy_recover, _ = model(val_x, val_cI[cur_loc], val_cR[cur_loc], N[cur_loc], val_I[cur_loc], val_R[cur_loc], prev_h)\n",
    "    \n",
    "    val_phy_active = (val_phy_active - dI_mean[cur_loc]) / dI_std[cur_loc]\n",
    "    val_loss = criterion(val_active_pred.squeeze(), val_yI[cur_loc]) + 0.1*criterion(val_phy_active.squeeze(), val_yI[cur_loc])\n",
    "    if val_loss < min_loss:    \n",
    "        state = {\n",
    "            'state': model.state_dict(),\n",
    "            'optimizer': optimizer.state_dict(),\n",
    "        }\n",
    "        torch.save(state, file_name)\n",
    "        min_loss = val_loss\n",
    "        print('-----Save best model-----')\n",
    "    \n",
    "    print('Epoch %d, Loss %.2f, Val loss %.2f'%(epoch, all_loss[-1], val_loss.item()))"
   ]
  },
  {
   "cell_type": "code",
   "execution_count": 16,
   "metadata": {
    "scrolled": true
   },
   "outputs": [],
   "source": [
    "#Pred with STAN\n",
    "file_name = './save/stan'\n",
    "checkpoint = torch.load(file_name)\n",
    "model.load_state_dict(checkpoint['state'])\n",
    "optimizer.load_state_dict(checkpoint['optimizer'])\n",
    "model.eval()\n",
    "\n",
    "\n",
    "prev_x = torch.cat((train_x, val_x), dim=1)\n",
    "prev_I = torch.cat((train_I, val_I), dim=1)\n",
    "prev_R = torch.cat((train_R, val_R), dim=1)\n",
    "prev_cI = torch.cat((train_cI, val_cI), dim=1)\n",
    "prev_cR = torch.cat((train_cR, val_cR), dim=1)\n",
    "prev_active_pred, _, prev_phyactive_pred, _, h = model(prev_x, prev_cI[cur_loc], prev_cR[cur_loc], N[cur_loc], prev_I[cur_loc], prev_R[cur_loc])\n",
    "\n",
    "\n",
    "test_pred_active, test_pred_recovered, test_pred_phy_active, test_pred_phy_recover, _ = model(test_x, test_cI[cur_loc], test_cR[cur_loc], N[cur_loc], test_I[cur_loc], test_R[cur_loc], h)\n"
   ]
  },
  {
   "cell_type": "code",
   "execution_count": 17,
   "metadata": {},
   "outputs": [
    {
     "name": "stdout",
     "output_type": "stream",
     "text": [
      "Estimated beta in SIR model is 0.06\n",
      "Estimated gamma in SIR model is 0.03\n"
     ]
    }
   ],
   "source": [
    "print('Estimated beta in SIR model is %.2f'%model.alpha_scaled)\n",
    "print('Estimated gamma in SIR model is %.2f'%model.beta_scaled)"
   ]
  },
  {
   "cell_type": "code",
   "execution_count": 18,
   "metadata": {},
   "outputs": [],
   "source": [
    "#Cumulate predicted dI\n",
    "pred_I = []\n",
    "\n",
    "for i in range(test_pred_active.size(1)):\n",
    "    cur_pred = (test_pred_active[0, i, :].detach().cpu().numpy() * dI_std[cur_loc].reshape(1, 1).detach().cpu().numpy()) + dI_mean[cur_loc].reshape(1, 1).detach().cpu().numpy()\n",
    "    #cur_pred = test_pred_phy_active[0, i, :].detach().cpu().numpy()\n",
    "    cur_pred = (cur_pred + test_pred_phy_active[0, i, :].detach().cpu().numpy()) / 2\n",
    "    cur_pred = np.cumsum(cur_pred)\n",
    "    cur_pred = cur_pred + test_I[cur_loc, i].detach().cpu().item()\n",
    "    pred_I.append(cur_pred)\n",
    "pred_I = np.array(pred_I)\n",
    "pred_I = pred_I"
   ]
  },
  {
   "cell_type": "code",
   "execution_count": 19,
   "metadata": {},
   "outputs": [
    {
     "data": {
      "text/plain": [
       "array([121530.96 , 123828.555, 126236.94 , 128210.78 , 130208.73 ,\n",
       "       131992.72 , 133353.53 , 135193.83 , 137343.72 , 139658.27 ,\n",
       "       141793.67 , 143604.95 , 145277.72 , 146975.83 , 149443.75 ],\n",
       "      dtype=float32)"
      ]
     },
     "execution_count": 19,
     "metadata": {},
     "output_type": "execute_result"
    }
   ],
   "source": [
    "pred_I[-1, :]"
   ]
  },
  {
   "cell_type": "code",
   "execution_count": 20,
   "metadata": {
    "scrolled": true
   },
   "outputs": [],
   "source": [
    "def get_real_y(data, history_window=5, pred_window=15, slide_step=5):\n",
    "    # Data shape n_loc, timestep, n_feat\n",
    "    # Reshape to n_loc, t, history_window*n_feat\n",
    "    n_loc = data.shape[0]\n",
    "    timestep = data.shape[1]\n",
    "    \n",
    "    y = []\n",
    "    for i in range(0, timestep, slide_step):\n",
    "        if i+history_window+pred_window-1 >= timestep or i+history_window >= timestep:\n",
    "            break\n",
    "        y.append(data[:, i+history_window:i+history_window+pred_window])\n",
    "    y = np.array(y, dtype=np.float32).transpose((1, 0, 2))\n",
    "    return y"
   ]
  },
  {
   "cell_type": "code",
   "execution_count": 21,
   "metadata": {},
   "outputs": [],
   "source": [
    "I_true = get_real_y(active_cases[:], history_window, pred_window, slide_step)"
   ]
  },
  {
   "cell_type": "code",
   "execution_count": 22,
   "metadata": {},
   "outputs": [
    {
     "data": {
      "image/png": "[encoded data removed]",
      "text/plain": [
       "<Figure size 432x288 with 1 Axes>"
      ]
     },
     "metadata": {
      "needs_background": "light"
     },
     "output_type": "display_data"
    }
   ],
   "source": [
    "ground_truth = np.array(list(I_true[cur_loc, -1, :]))\n",
    "previous_day = np.array(list([I_true[cur_loc, -2, 4]]) + list(I_true[cur_loc, -1, :-1]))\n",
    "predicted = np.array(list(pred_I[-1, :]))\n",
    "plt.plot(list(range(15)), ground_truth,c='r', label='Ground truth')\n",
    "plt.plot(list(range(15)), previous_day,c='g', label='Previous day')\n",
    "plt.plot(list(range(15)), predicted,c='b', label='STAN')\n",
    "plt.title(loc_name)\n",
    "plt.legend()\n",
    "plt.show()"
   ]
  },
  {
   "cell_type": "code",
   "execution_count": 23,
   "metadata": {},
   "outputs": [
    {
     "data": {
      "text/plain": [
       "319916960.0"
      ]
     },
     "execution_count": 23,
     "metadata": {},
     "output_type": "execute_result"
    }
   ],
   "source": [
    "((ground_truth - previous_day) **2).mean()"
   ]
  },
  {
   "cell_type": "code",
   "execution_count": 24,
   "metadata": {},
   "outputs": [
    {
     "data": {
      "text/plain": [
       "1739902600.0"
      ]
     },
     "execution_count": 24,
     "metadata": {},
     "output_type": "execute_result"
    }
   ],
   "source": [
    "((ground_truth - predicted) **2).mean()"
   ]
  },
  {
   "cell_type": "code",
   "execution_count": null,
   "metadata": {},
   "outputs": [],
   "source": [
    "previous_day_mse = 0\n",
    "predicted_mse = 0\n",
    "\n",
    "for i in range(52):\n",
    "    in_dim = 3*history_window\n",
    "    hidden_dim1 = 32\n",
    "    hidden_dim2 = 32\n",
    "    gru_dim = 32\n",
    "    num_heads = 1\n",
    "    device = torch.device(\"cuda:0\" if torch.cuda.is_available() else \"cpu\")\n",
    "\n",
    "    g = g.to(device)\n",
    "    model = STAN(g, in_dim, hidden_dim1, hidden_dim2, gru_dim, num_heads, pred_window, device).to(device)\n",
    "    optimizer = torch.optim.Adam(model.parameters(), lr=1e-2)\n",
    "    criterion = nn.MSELoss()\n",
    "    \n",
    "    all_loss = []\n",
    "    file_name = './save/stan'\n",
    "    min_loss = 1e10\n",
    "\n",
    "    loc_name = loc_list[i]\n",
    "    cur_loc = i\n",
    "    \n",
    "    for epoch in range(50):\n",
    "        \n",
    "        model.train()\n",
    "        optimizer.zero_grad()\n",
    "\n",
    "        active_pred, recovered_pred, phy_active, phy_recover, _ = model(train_x, train_cI[cur_loc], train_cR[cur_loc], N[cur_loc], train_I[cur_loc], train_R[cur_loc])\n",
    "        phy_active = (phy_active - dI_mean[cur_loc]) / dI_std[cur_loc]\n",
    "        phy_recover = (phy_recover - dR_mean[cur_loc]) / dR_std[cur_loc]\n",
    "        loss = criterion(active_pred.squeeze(), train_yI[cur_loc])+criterion(recovered_pred.squeeze(), train_yR[cur_loc])+0.1*criterion(phy_active.squeeze(), train_yI[cur_loc])+0.1*criterion(phy_recover.squeeze(), train_yR[cur_loc])\n",
    "\n",
    "        loss.backward()\n",
    "        optimizer.step()\n",
    "        all_loss.append(loss.item())\n",
    "\n",
    "        model.eval()\n",
    "        _, _, _, _, prev_h = model(train_x, train_cI[cur_loc], train_cR[cur_loc], N[cur_loc], train_I[cur_loc], train_R[cur_loc])\n",
    "        val_active_pred, val_recovered_pred, val_phy_active, val_phy_recover, _ = model(val_x, val_cI[cur_loc], val_cR[cur_loc], N[cur_loc], val_I[cur_loc], val_R[cur_loc], prev_h)\n",
    "\n",
    "        val_phy_active = (val_phy_active - dI_mean[cur_loc]) / dI_std[cur_loc]\n",
    "        val_loss = criterion(val_active_pred.squeeze(), val_yI[cur_loc]) + 0.1*criterion(val_phy_active.squeeze(), val_yI[cur_loc])\n",
    "        if val_loss < min_loss:    \n",
    "            state = {\n",
    "                'state': model.state_dict(),\n",
    "                'optimizer': optimizer.state_dict(),\n",
    "            }\n",
    "            torch.save(state, file_name)\n",
    "            min_loss = val_loss\n",
    "            print('-----Save best model-----')\n",
    "\n",
    "        print('Epoch %d, Loss %.2f, Val loss %.2f'%(epoch, all_loss[-1], val_loss.item()))\n",
    "        \n",
    "    file_name = './save/stan'\n",
    "    checkpoint = torch.load(file_name)\n",
    "    model.load_state_dict(checkpoint['state'])\n",
    "    optimizer.load_state_dict(checkpoint['optimizer'])\n",
    "    model.eval()\n",
    "\n",
    "\n",
    "    prev_x = torch.cat((train_x, val_x), dim=1)\n",
    "    prev_I = torch.cat((train_I, val_I), dim=1)\n",
    "    prev_R = torch.cat((train_R, val_R), dim=1)\n",
    "    prev_cI = torch.cat((train_cI, val_cI), dim=1)\n",
    "    prev_cR = torch.cat((train_cR, val_cR), dim=1)\n",
    "    prev_active_pred, _, prev_phyactive_pred, _, h = model(prev_x, prev_cI[cur_loc], prev_cR[cur_loc], N[cur_loc], prev_I[cur_loc], prev_R[cur_loc])\n",
    "\n",
    "    test_pred_active, test_pred_recovered, test_pred_phy_active, test_pred_phy_recover, _ = model(test_x, test_cI[cur_loc], test_cR[cur_loc], N[cur_loc], test_I[cur_loc], test_R[cur_loc], h)\n",
    "\n",
    "    pred_I = []\n",
    "\n",
    "    for i in range(test_pred_active.size(1)):\n",
    "        cur_pred = (test_pred_active[0, i, :].detach().cpu().numpy() * dI_std[cur_loc].reshape(1, 1).detach().cpu().numpy()) + dI_mean[cur_loc].reshape(1, 1).detach().cpu().numpy()\n",
    "        #cur_pred = test_pred_phy_active[0, i, :].detach().cpu().numpy()\n",
    "        cur_pred = (cur_pred + test_pred_phy_active[0, i, :].detach().cpu().numpy()) / 2\n",
    "        cur_pred = np.cumsum(cur_pred)\n",
    "        cur_pred = cur_pred + test_I[cur_loc, i].detach().cpu().item()\n",
    "        pred_I.append(cur_pred)\n",
    "    pred_I = np.array(pred_I)\n",
    "    pred_I = pred_I\n",
    "    \n",
    "    ground_truth = np.array(list(I_true[cur_loc, -1, :]))\n",
    "    previous_day = np.array(list([I_true[cur_loc, -2, 4]]) + list(I_true[cur_loc, -1, :-1]))\n",
    "    predicted = np.array(list(pred_I[-1, :]))\n",
    "    predicted_mse += ((ground_truth - previous_day) **2).mean()\n",
    "    previous_day_mse += ((ground_truth - predicted) **2).mean()"
   ]
  },
  {
   "cell_type": "code",
   "execution_count": null,
   "metadata": {},
   "outputs": [],
   "source": []
  }
 ],
 "metadata": {
  "kernelspec": {
   "display_name": "Python 3",
   "language": "python",
   "name": "python3"
  },
  "language_info": {
   "codemirror_mode": {
    "name": "ipython",
    "version": 3
   },
   "file_extension": ".py",
   "mimetype": "text/x-python",
   "name": "python",
   "nbconvert_exporter": "python",
   "pygments_lexer": "ipython3",
   "version": "3.7.9"
  },
  "toc": {
   "base_numbering": 1,
   "nav_menu": {},
   "number_sections": true,
   "sideBar": true,
   "skip_h1_title": false,
   "title_cell": "Table of Contents",
   "title_sidebar": "Contents",
   "toc_cell": false,
   "toc_position": {},
   "toc_section_display": true,
   "toc_window_display": false
  }
 },
 "nbformat": 4,
 "nbformat_minor": 4
}
